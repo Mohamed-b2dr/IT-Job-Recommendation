{
 "cells": [
  {
   "cell_type": "code",
   "execution_count": 1,
   "id": "0bac2f0b",
   "metadata": {},
   "outputs": [],
   "source": [
    "from nltk import word_tokenize          \n",
    "from nltk.stem import WordNetLemmatizer \n",
    "class LemmaTokenizer(object):\n",
    "    def __init__(self):\n",
    "        # lemmatize text - convert to base form \n",
    "        self.wnl = WordNetLemmatizer()\n",
    "        # creating stopwords list, to ignore lemmatizing stopwords \n",
    "        self.stopwords = stopwords.words('english')\n",
    "    def __call__(self, doc):\n",
    "        return [self.wnl.lemmatize(t) for t in word_tokenize(doc) if t not in self.stopwords]\n"
   ]
  },
  {
   "cell_type": "code",
   "execution_count": 36,
   "id": "79b74888",
   "metadata": {},
   "outputs": [],
   "source": [
    "import pickle\n",
    "import numpy as np \n",
    "import pandas as pd\n",
    "filename = \"tfidf.pickle\"\n",
    "vectorizer = pickle.load(open(filename, 'rb'))"
   ]
  },
  {
   "cell_type": "code",
   "execution_count": 37,
   "id": "f1fa6108",
   "metadata": {},
   "outputs": [
    {
     "name": "stderr",
     "output_type": "stream",
     "text": [
      "C:\\Users\\laptop\\anaconda3\\lib\\site-packages\\sklearn\\base.py:310: UserWarning: Trying to unpickle estimator DecisionTreeClassifier from version 0.23.2 when using version 0.24.2. This might lead to breaking code or invalid results. Use at your own risk.\n",
      "  warnings.warn(\n",
      "C:\\Users\\laptop\\anaconda3\\lib\\site-packages\\sklearn\\base.py:310: UserWarning: Trying to unpickle estimator RandomForestClassifier from version 0.23.2 when using version 0.24.2. This might lead to breaking code or invalid results. Use at your own risk.\n",
      "  warnings.warn(\n"
     ]
    }
   ],
   "source": [
    "filename = 'Job_Recommendation.sav'\n",
    "loaded_model = pickle.load(open(filename, 'rb'))"
   ]
  },
  {
   "cell_type": "code",
   "execution_count": 144,
   "id": "5ef43e70",
   "metadata": {},
   "outputs": [],
   "source": [
    "lst= ['Java Developer','Software Developer','Software Engineer','Web Developer','PHP Developer','Graphic Designer'\n",
    "      ,'Software QA Engineer','NET Developer','Database Admin/Dev','Programmer','IT Specialist','Senior Web Developer'\n",
    "      ,'Android Developer','iOS Developer']\n",
    "kmap={}\n",
    "for i in range(len(lst)):\n",
    "    kmap[i]= lst[i]"
   ]
  },
  {
   "cell_type": "code",
   "execution_count": 160,
   "id": "3530397e",
   "metadata": {},
   "outputs": [],
   "source": [
    "def Simulatio(RequiredQual):\n",
    "    RequiredQual=RequiredQual.replace('\\n', ' ').replace('\\r', '').replace('- ', ''). replace(' - ', ' to ')\n",
    "    test = vectorizer.transform([RequiredQual])\n",
    "    test= test.toarray()\n",
    "    test_preds = loaded_model.predict_proba(test)\n",
    "    #Top 3\n",
    "    result={}\n",
    "    test_preds = test_preds.tolist()\n",
    "    for i in range(3):\n",
    "        result[kmap[np.argmax(test_preds, axis=1)[0]]] = test_preds[0][np.argmax(test_preds, axis=1)[0]] \n",
    "        test_preds[0][np.argmax(test_preds, axis=1)[0]]=0\n",
    "    print(result)"
   ]
  },
  {
   "cell_type": "code",
   "execution_count": 174,
   "id": "3edfebfe",
   "metadata": {},
   "outputs": [],
   "source": [
    "df = pd.read_csv('input/data job posts.csv')"
   ]
  },
  {
   "cell_type": "code",
   "execution_count": 177,
   "id": "9a3d93f2",
   "metadata": {},
   "outputs": [],
   "source": [
    "df1 =df['RequiredQual'][3]"
   ]
  },
  {
   "cell_type": "code",
   "execution_count": 178,
   "id": "1a452f67",
   "metadata": {},
   "outputs": [
    {
     "name": "stdout",
     "output_type": "stream",
     "text": [
      "{'IT Specialist': 0.26029761904761906, 'Programmer': 0.10020238095238095, 'PHP Developer': 0.0996}\n"
     ]
    }
   ],
   "source": [
    "Simulatio(df1)"
   ]
  },
  {
   "cell_type": "code",
   "execution_count": null,
   "id": "10be5460",
   "metadata": {},
   "outputs": [],
   "source": []
  },
  {
   "cell_type": "code",
   "execution_count": null,
   "id": "b42addf2",
   "metadata": {},
   "outputs": [],
   "source": []
  },
  {
   "cell_type": "code",
   "execution_count": null,
   "id": "101dbda0",
   "metadata": {},
   "outputs": [],
   "source": []
  },
  {
   "cell_type": "code",
   "execution_count": null,
   "id": "27b904fc",
   "metadata": {},
   "outputs": [],
   "source": []
  },
  {
   "cell_type": "code",
   "execution_count": null,
   "id": "445737fa",
   "metadata": {},
   "outputs": [],
   "source": []
  },
  {
   "cell_type": "code",
   "execution_count": null,
   "id": "42f87f41",
   "metadata": {},
   "outputs": [],
   "source": []
  }
 ],
 "metadata": {
  "kernelspec": {
   "display_name": "PyCharm (4th)",
   "language": "python",
   "name": "pycharm-7325307b"
  },
  "language_info": {
   "codemirror_mode": {
    "name": "ipython",
    "version": 3
   },
   "file_extension": ".py",
   "mimetype": "text/x-python",
   "name": "python",
   "nbconvert_exporter": "python",
   "pygments_lexer": "ipython3",
   "version": "3.8.12"
  }
 },
 "nbformat": 4,
 "nbformat_minor": 5
}
