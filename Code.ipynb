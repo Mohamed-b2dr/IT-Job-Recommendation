{
 "cells": [
  {
   "cell_type": "code",
   "execution_count": 7,
   "id": "08607b1a",
   "metadata": {},
   "outputs": [
    {
     "name": "stdout",
     "output_type": "stream",
     "text": [
      "input\\data job posts.csv\n",
      "input\\screenshot.jpg\n"
     ]
    }
   ],
   "source": [
    "import numpy as np # linear algebra\n",
    "import pandas as pd # data processing, CSV file I/O (e.g. pd.read_csv)\n",
    "from sklearn.feature_extraction import DictVectorizer\n",
    "from sklearn.feature_extraction.text import CountVectorizer\n",
    "from sklearn.model_selection import train_test_split\n",
    "# Input data files are available in the \"../input/\" directory.\n",
    "# For example, running this (by clicking run or pressing Shift+Enter) will list all files under the input directory\n",
    "import nltk\n",
    "from nltk.corpus import stopwords\n",
    "from sklearn.preprocessing import LabelEncoder\n",
    "from sklearn.mixture import GaussianMixture\n",
    "from sklearn.cluster import KMeans\n",
    "from sklearn.metrics import accuracy_score, auc, roc_curve, roc_auc_score\n",
    "\n",
    "    \n",
    "import os\n",
    "for dirname, _, filenames in os.walk('input'):\n",
    "    for filename in filenames:\n",
    "        print(os.path.join(dirname, filename))"
   ]
  },
  {
   "cell_type": "code",
   "execution_count": 8,
   "id": "462fbad8",
   "metadata": {},
   "outputs": [
    {
     "name": "stdout",
     "output_type": "stream",
     "text": [
      "Index(['jobpost', 'date', 'Title', 'Company', 'AnnouncementCode', 'Term',\n",
      "       'Eligibility', 'Audience', 'StartDate', 'Duration', 'Location',\n",
      "       'JobDescription', 'JobRequirment', 'RequiredQual', 'Salary',\n",
      "       'ApplicationP', 'OpeningDate', 'Deadline', 'Notes', 'AboutC', 'Attach',\n",
      "       'Year', 'Month', 'IT'],\n",
      "      dtype='object')\n"
     ]
    },
    {
     "data": {
      "text/html": [
       "<div>\n",
       "<style scoped>\n",
       "    .dataframe tbody tr th:only-of-type {\n",
       "        vertical-align: middle;\n",
       "    }\n",
       "\n",
       "    .dataframe tbody tr th {\n",
       "        vertical-align: top;\n",
       "    }\n",
       "\n",
       "    .dataframe thead th {\n",
       "        text-align: right;\n",
       "    }\n",
       "</style>\n",
       "<table border=\"1\" class=\"dataframe\">\n",
       "  <thead>\n",
       "    <tr style=\"text-align: right;\">\n",
       "      <th></th>\n",
       "      <th>RequiredQual</th>\n",
       "      <th>Eligibility</th>\n",
       "      <th>Title</th>\n",
       "      <th>JobDescription</th>\n",
       "      <th>JobRequirment</th>\n",
       "    </tr>\n",
       "  </thead>\n",
       "  <tbody>\n",
       "    <tr>\n",
       "      <th>4</th>\n",
       "      <td>- University degree; economical background is ...</td>\n",
       "      <td>NaN</td>\n",
       "      <td>Software Developer</td>\n",
       "      <td>NaN</td>\n",
       "      <td>- Rendering technical assistance to Database M...</td>\n",
       "    </tr>\n",
       "    <tr>\n",
       "      <th>15</th>\n",
       "      <td>- Excellent knowledge of Windows 2000 Server, ...</td>\n",
       "      <td>NaN</td>\n",
       "      <td>Network Administrator</td>\n",
       "      <td>NaN</td>\n",
       "      <td>- Network monitoring and administration;\\r\\n- ...</td>\n",
       "    </tr>\n",
       "    <tr>\n",
       "      <th>19</th>\n",
       "      <td>As a GD you are creative, innovative and have\\...</td>\n",
       "      <td>NaN</td>\n",
       "      <td>Graphic Designer</td>\n",
       "      <td>The position of Graphic Designer (GD) demands ...</td>\n",
       "      <td>Graphic Designer will be responsible for every...</td>\n",
       "    </tr>\n",
       "    <tr>\n",
       "      <th>34</th>\n",
       "      <td>Participants should be mid-level professionals...</td>\n",
       "      <td>NaN</td>\n",
       "      <td>Demographic Analysis Workshop</td>\n",
       "      <td>NaN</td>\n",
       "      <td>NaN</td>\n",
       "    </tr>\n",
       "    <tr>\n",
       "      <th>35</th>\n",
       "      <td>- Work experience of at least two years; \\r\\n-...</td>\n",
       "      <td>NaN</td>\n",
       "      <td>Programmer</td>\n",
       "      <td>NaN</td>\n",
       "      <td>NaN</td>\n",
       "    </tr>\n",
       "  </tbody>\n",
       "</table>\n",
       "</div>"
      ],
      "text/plain": [
       "                                         RequiredQual Eligibility  \\\n",
       "4   - University degree; economical background is ...         NaN   \n",
       "15  - Excellent knowledge of Windows 2000 Server, ...         NaN   \n",
       "19  As a GD you are creative, innovative and have\\...         NaN   \n",
       "34  Participants should be mid-level professionals...         NaN   \n",
       "35  - Work experience of at least two years; \\r\\n-...         NaN   \n",
       "\n",
       "                            Title  \\\n",
       "4              Software Developer   \n",
       "15          Network Administrator   \n",
       "19               Graphic Designer   \n",
       "34  Demographic Analysis Workshop   \n",
       "35                     Programmer   \n",
       "\n",
       "                                       JobDescription  \\\n",
       "4                                                 NaN   \n",
       "15                                                NaN   \n",
       "19  The position of Graphic Designer (GD) demands ...   \n",
       "34                                                NaN   \n",
       "35                                                NaN   \n",
       "\n",
       "                                        JobRequirment  \n",
       "4   - Rendering technical assistance to Database M...  \n",
       "15  - Network monitoring and administration;\\r\\n- ...  \n",
       "19  Graphic Designer will be responsible for every...  \n",
       "34                                                NaN  \n",
       "35                                                NaN  "
      ]
     },
     "execution_count": 8,
     "metadata": {},
     "output_type": "execute_result"
    }
   ],
   "source": [
    "data = pd.read_csv('input/data job posts.csv')\n",
    "print(data.columns)\n",
    "# selecting only IT Jobs\n",
    "df = data[data['IT']]\n",
    "# selecting \n",
    "cols = ['RequiredQual', 'Eligibility', 'Title', 'JobDescription', 'JobRequirment']\n",
    "df=df[cols]\n",
    "df.head(5)"
   ]
  },
  {
   "cell_type": "markdown",
   "id": "098eaa92",
   "metadata": {},
   "source": [
    "# Editing Job Titles"
   ]
  },
  {
   "cell_type": "code",
   "execution_count": 9,
   "id": "de59cf9d",
   "metadata": {},
   "outputs": [
    {
     "data": {
      "text/plain": [
       "Software Developer           134\n",
       "Web Developer                101\n",
       "Java Developer                88\n",
       "Graphic Designer              75\n",
       "Software Engineer             69\n",
       "Senior Java Developer         69\n",
       "PHP Developer                 65\n",
       "Senior Software Engineer      63\n",
       "Programmer                    56\n",
       "IT Specialist                 55\n",
       "Senior QA Engineer            43\n",
       "Senior Software Developer     41\n",
       "Android Developer             37\n",
       ".NET Developer                36\n",
       "Senior .NET Developer         34\n",
       "Senior PHP Developer          34\n",
       "iOS Developer                 31\n",
       "Software QA Engineer          29\n",
       "Senior Web Developer          29\n",
       "Database Developer            29\n",
       "Database Administrator        28\n",
       "Name: Title, dtype: int64"
      ]
     },
     "execution_count": 9,
     "metadata": {},
     "output_type": "execute_result"
    }
   ],
   "source": [
    "classes = df['Title'].value_counts()[:21]\n",
    "keys = classes.keys().to_list()\n",
    "\n",
    "df = df[df['Title'].isin(keys)]\n",
    "df['Title'].value_counts()"
   ]
  },
  {
   "cell_type": "code",
   "execution_count": 10,
   "id": "898d0d33",
   "metadata": {
    "scrolled": true
   },
   "outputs": [
    {
     "data": {
      "text/plain": [
       "Java Developer          157\n",
       "Software Developer      134\n",
       "Software Engineer       132\n",
       "Web Developer           130\n",
       "PHP Developer            99\n",
       "Graphic Designer         75\n",
       "Software QA Engineer     72\n",
       ".NET Developer           70\n",
       "Database Admin/Dev       57\n",
       "Programmer               56\n",
       "IT Specialist            55\n",
       "Senior Web Developer     41\n",
       "Android Developer        37\n",
       "iOS Developer            31\n",
       "Name: Title, dtype: int64"
      ]
     },
     "execution_count": 10,
     "metadata": {},
     "output_type": "execute_result"
    }
   ],
   "source": [
    "def chane_titles(x):\n",
    "    x = x.strip()\n",
    "    if x == 'Senior Java Developer':\n",
    "        return 'Java Developer'\n",
    "    elif x == 'Senior Software Engineer':\n",
    "        return 'Software Engineer'\n",
    "    elif x == 'Senior QA Engineer':\n",
    "        return 'Software QA Engineer'\n",
    "    elif x == 'Senior Software Developer':\n",
    "        return 'Senior Web Developer'\n",
    "    elif x =='Senior PHP Developer':\n",
    "        return 'PHP Developer'\n",
    "    elif x == 'Senior .NET Developer':\n",
    "        return '.NET Developer'\n",
    "    elif x == 'Senior Web Developer':\n",
    "        return 'Web Developer'\n",
    "    elif x == 'Database Administrator':\n",
    "        return 'Database Admin/Dev'\n",
    "    elif x == 'Database Developer':\n",
    "        return 'Database Admin/Dev'\n",
    "\n",
    "    else:\n",
    "        return x\n",
    "        \n",
    "    \n",
    "df['Title'] = df['Title'].apply(chane_titles)\n",
    "df['Title'].value_counts()"
   ]
  },
  {
   "cell_type": "markdown",
   "id": "74f29905",
   "metadata": {},
   "source": [
    "# Building tokenizer to process text"
   ]
  },
  {
   "cell_type": "code",
   "execution_count": 11,
   "id": "92c9dc95",
   "metadata": {},
   "outputs": [],
   "source": [
    "from nltk import word_tokenize          \n",
    "from nltk.stem import WordNetLemmatizer \n",
    "class LemmaTokenizer(object):\n",
    "    def __init__(self):\n",
    "        # lemmatize text - convert to base form \n",
    "        self.wnl = WordNetLemmatizer()\n",
    "        # creating stopwords list, to ignore lemmatizing stopwords \n",
    "        self.stopwords = stopwords.words('english')\n",
    "    def __call__(self, doc):\n",
    "        return [self.wnl.lemmatize(t) for t in word_tokenize(doc) if t not in self.stopwords]\n",
    "\n",
    "# removing new line characters, and certain hypen patterns                  \n",
    "df['RequiredQual']=df['RequiredQual'].apply(lambda x: x.replace('\\n', ' ').replace('\\r', '').replace('- ', ''). replace(' - ', ' to '))"
   ]
  },
  {
   "cell_type": "markdown",
   "id": "20e81ba9",
   "metadata": {},
   "source": [
    "# Featurizing Text"
   ]
  },
  {
   "cell_type": "code",
   "execution_count": 12,
   "id": "fe6e5b78",
   "metadata": {},
   "outputs": [
    {
     "name": "stderr",
     "output_type": "stream",
     "text": [
      "[nltk_data] Error loading omw-1.4: <urlopen error [Errno 11001]\n",
      "[nltk_data]     getaddrinfo failed>\n"
     ]
    },
    {
     "data": {
      "text/plain": [
       "False"
      ]
     },
     "execution_count": 12,
     "metadata": {},
     "output_type": "execute_result"
    }
   ],
   "source": [
    "import nltk\n",
    "nltk.download('omw-1.4')"
   ]
  },
  {
   "cell_type": "code",
   "execution_count": 13,
   "id": "9464e1c7",
   "metadata": {},
   "outputs": [
    {
     "name": "stderr",
     "output_type": "stream",
     "text": [
      "C:\\Users\\laptop\\anaconda3\\lib\\site-packages\\sklearn\\feature_extraction\\text.py:489: UserWarning: The parameter 'token_pattern' will not be used since 'tokenizer' is not None'\n",
      "  warnings.warn(\"The parameter 'token_pattern' will not be used\"\n",
      "C:\\Users\\laptop\\anaconda3\\lib\\site-packages\\sklearn\\feature_extraction\\text.py:388: UserWarning: Your stop_words may be inconsistent with your preprocessing. Tokenizing the stop words generated tokens ['le', 'u'] not in stop_words.\n",
      "  warnings.warn('Your stop_words may be inconsistent with '\n"
     ]
    }
   ],
   "source": [
    "from sklearn.feature_extraction.text import TfidfVectorizer\n",
    "# train features and labels \n",
    "y = df['Title']\n",
    "X = df['RequiredQual']\n",
    "# tdif feature rep \n",
    "vectorizer = TfidfVectorizer(tokenizer=LemmaTokenizer(), stop_words='english')\n",
    "vectorizer.fit(X)\n",
    "# transoforming text to tdif features\n",
    "tfidf_matrix = vectorizer.transform(X)\n",
    "# sparse matrix to dense matrix for training\n",
    "X_tdif = tfidf_matrix.toarray()\n",
    "# encoding text labels in categories \n",
    "enc = LabelEncoder() \n",
    "enc.fit(y.values)\n",
    "y_enc=enc.transform(y.values)\n",
    "\n",
    "X_train_words, X_test_words, y_train, y_test = train_test_split(X, y_enc, test_size=0.15, random_state=10)\n",
    "\n",
    "X_train = vectorizer.transform(X_train_words)\n",
    "X_train = X_train.toarray()\n",
    "\n",
    "X_test = vectorizer.transform(X_test_words)\n",
    "X_test = X_test.toarray()"
   ]
  },
  {
   "cell_type": "code",
   "execution_count": 56,
   "id": "27f0c7e0",
   "metadata": {},
   "outputs": [
    {
     "name": "stdout",
     "output_type": "stream",
     "text": [
      "Train acc: 0.9969199178644764\n",
      "Test acc: 0.7906976744186046\n"
     ]
    }
   ],
   "source": [
    "from sklearn.ensemble import RandomForestClassifier\n",
    "from sklearn.discriminant_analysis import LinearDiscriminantAnalysis\n",
    "RFC = RandomForestClassifier(n_estimators=10000,\n",
    "                                 max_depth= 1200,\n",
    "                                 random_state=42)\n",
    "train_preds = RFC.fit(X_train, y_train).predict(X_train)\n",
    "test_preds = RFC.predict(X_test)\n",
    "\n",
    "print('Train acc: {0}'.format(accuracy_score(y_train, train_preds)))\n",
    "print('Test acc: {0}'.format(accuracy_score(y_test, test_preds)))"
   ]
  },
  {
   "cell_type": "code",
   "execution_count": 4,
   "id": "b55e97f3",
   "metadata": {},
   "outputs": [],
   "source": [
    "import pickle\n",
    "filename = 'Job_Recommendation.sav'\n",
    "pickle.dump(RFC, open(filename, 'wb'))"
   ]
  },
  {
   "cell_type": "code",
   "execution_count": 5,
   "id": "d2103972",
   "metadata": {},
   "outputs": [
    {
     "name": "stderr",
     "output_type": "stream",
     "text": [
      "C:\\Users\\laptop\\anaconda3\\lib\\site-packages\\sklearn\\base.py:310: UserWarning: Trying to unpickle estimator DecisionTreeClassifier from version 0.23.2 when using version 0.24.2. This might lead to breaking code or invalid results. Use at your own risk.\n",
      "  warnings.warn(\n",
      "C:\\Users\\laptop\\anaconda3\\lib\\site-packages\\sklearn\\base.py:310: UserWarning: Trying to unpickle estimator RandomForestClassifier from version 0.23.2 when using version 0.24.2. This might lead to breaking code or invalid results. Use at your own risk.\n",
      "  warnings.warn(\n"
     ]
    }
   ],
   "source": [
    "loaded_model = pickle.load(open(filename, 'rb'))"
   ]
  },
  {
   "cell_type": "code",
   "execution_count": 14,
   "id": "ac402f8e",
   "metadata": {},
   "outputs": [],
   "source": [
    "test_preds = loaded_model.predict_proba(X_test)"
   ]
  },
  {
   "cell_type": "code",
   "execution_count": 15,
   "id": "8ffa6f83",
   "metadata": {},
   "outputs": [],
   "source": [
    "from sklearn.metrics import top_k_accuracy_score"
   ]
  },
  {
   "cell_type": "code",
   "execution_count": 23,
   "id": "30f10e55",
   "metadata": {},
   "outputs": [
    {
     "data": {
      "text/plain": [
       "0.936046511627907"
      ]
     },
     "execution_count": 23,
     "metadata": {},
     "output_type": "execute_result"
    }
   ],
   "source": [
    "top_k_accuracy_score(y_test, test_preds, k=3)"
   ]
  },
  {
   "cell_type": "code",
   "execution_count": 25,
   "id": "382e8750",
   "metadata": {},
   "outputs": [],
   "source": [
    "pickle.dump(vectorizer, open(\"tfidf.pickle\", \"wb\"))"
   ]
  },
  {
   "cell_type": "code",
   "execution_count": 28,
   "id": "afc4e2bd",
   "metadata": {},
   "outputs": [
    {
     "data": {
      "text/plain": [
       "array([ 0,  2,  9, 10,  4, 11,  2,  9, 11,  5,  6, 10, 10,  0,  0, 10,  9,\n",
       "        5,  9, 10, 13,  5,  1,  9, 12,  0,  9, 12, 11,  5,  5,  5,  5, 10,\n",
       "       13, 12, 10, 10,  2,  9, 10,  3, 10,  4, 12, 10, 12, 10, 12,  4, 10,\n",
       "        5,  5, 10,  7, 10,  5,  7, 10,  5, 10,  6,  3,  3, 12, 12,  5,  7,\n",
       "        7,  2,  4,  0,  8, 12,  5,  0,  6,  8,  3,  2,  6, 12,  9,  6,  5,\n",
       "       10,  7,  2,  5,  3,  2,  8,  9, 11, 10, 12, 12, 12, 12, 12,  9,  6,\n",
       "        0,  6,  4,  3,  2, 11, 10,  5, 13,  5,  6, 11, 12,  5,  9,  4,  3,\n",
       "        9, 10,  5, 13,  3,  1,  5,  9,  8,  5,  6,  5,  7,  5,  0,  1,  7,\n",
       "        9,  3,  9,  5,  5,  7, 12, 12,  0, 10, 13,  7,  0, 10,  9, 10,  6,\n",
       "        2, 10,  5,  7,  1,  9, 12, 11, 10,  6,  5,  3, 10,  7,  6,  2, 12,\n",
       "        0, 10,  5,  8, 11,  1,  0,  5, 12,  5,  4,  6,  0,  2,  0,  6,  5,\n",
       "        5,  7,  2,  3, 10, 12, 12,  1, 11,  5,  3,  9, 10,  5,  6,  5,  6,\n",
       "        2,  0,  6,  5,  1,  3, 12,  9,  6,  3,  8,  9,  6,  9,  5,  0,  5,\n",
       "        5,  0, 11,  5,  6, 12, 10, 12,  1,  6, 12, 11,  5,  4,  5, 12,  6,\n",
       "       13,  3,  9,  5, 11,  3,  4, 12,  9,  5,  4,  9, 12,  9, 13, 12,  5,\n",
       "        9,  6,  2,  5,  8,  7, 10,  8,  6,  5,  9,  7, 13,  6,  0,  7,  1,\n",
       "        0,  0,  7,  0, 11,  5,  3,  5, 12,  0,  4,  9, 13,  9,  8,  8, 10,\n",
       "       12, 13,  1,  7,  5,  1,  6,  9,  4, 12,  5,  4,  3,  0,  7,  4,  5,\n",
       "        3,  5, 10,  2,  5,  7,  6, 10,  1,  3,  9, 11,  6,  4,  5,  9,  4,\n",
       "        9,  6,  0,  9,  5, 12, 11,  5,  9,  9, 10,  3,  5, 11,  6,  9,  3,\n",
       "        6,  2, 12,  9, 12,  3, 12, 12,  9,  5, 10,  3,  9, 12,  9,  8,  9,\n",
       "       10,  8, 10,  8,  3,  0,  8, 10,  7,  0,  8,  3, 13,  0,  5,  7, 11,\n",
       "       12,  0, 10,  5, 11,  2,  3, 12,  5, 10,  0,  8,  6,  5,  3,  9,  2,\n",
       "       12, 11,  3,  4,  4, 12,  5, 13, 13,  3, 12,  6,  5,  2, 10, 10, 10,\n",
       "       13, 11, 10,  0,  9,  2,  6,  5, 10, 11, 11,  8, 10,  1,  0,  9,  2,\n",
       "       12,  5, 11, 11,  0,  0, 10,  6, 11,  6,  6, 12,  5, 12,  4,  7,  7,\n",
       "        9,  4,  3,  8,  6,  8,  4,  2,  3,  9,  2, 11,  6,  4, 10, 10, 10,\n",
       "        6,  9,  3, 10,  5, 11, 12,  9,  2,  0,  5, 10,  5, 12,  5, 10, 10,\n",
       "        6, 10,  2,  5,  6,  3,  7,  5, 11,  5,  3, 11,  5,  6,  6,  9,  4,\n",
       "        5, 12,  0, 11,  6,  6,  7, 11,  6, 12, 11,  6,  4, 11,  9,  1, 10,\n",
       "        6,  9,  6,  9,  9, 10,  5, 12, 12,  9,  3,  5,  1,  7,  7,  6,  3,\n",
       "       12,  9, 11, 10, 12,  0,  5,  5,  0,  9,  9,  5,  5,  9,  3,  0, 12,\n",
       "       12, 12,  7,  2,  9,  3, 12,  0, 10,  6, 11, 11,  2,  6, 10, 11,  2,\n",
       "        1, 10,  6, 12,  3,  8,  3,  9,  8,  6,  8,  6, 12, 10,  3,  0,  9,\n",
       "       12, 10,  5,  8, 10,  6,  9,  9,  9,  5, 10, 10,  3,  9,  5,  3,  5,\n",
       "        9,  5,  6,  3,  8,  7,  3,  6,  2, 12,  0,  5, 11,  3,  0,  9,  0,\n",
       "        4,  3,  6, 12,  0,  5, 11,  0, 12,  3, 12,  5, 12,  5,  9, 10,  9,\n",
       "        9, 11,  8,  5,  4,  5,  4,  9, 12, 10,  8, 10,  1,  0, 10, 10, 11,\n",
       "        5, 13,  6,  5,  7, 13,  7,  4,  9, 10,  7,  8,  9,  9,  3,  2,  6,\n",
       "       12,  2,  5,  4, 11,  0,  2,  5,  5,  9,  4,  6,  6,  9,  5,  8, 12,\n",
       "       12,  7,  7,  5,  1,  9,  5,  9, 10,  3, 10,  5, 11,  4, 10, 10,  1,\n",
       "        6,  7, 12,  5,  9, 11, 10,  2,  2,  3,  5, 13,  6, 10,  5,  9,  4,\n",
       "       13,  8,  8,  6, 11, 10, 11,  1,  7,  1,  9,  2,  7, 10,  6, 11, 12,\n",
       "       11,  2,  5, 10,  7, 12,  9, 13,  5,  7, 12,  2,  0, 12, 11,  0, 12,\n",
       "        9,  7,  1, 12, 10, 12,  6, 10,  2, 12, 11, 12, 12, 10,  2,  3,  5,\n",
       "        0, 10, 12, 10,  5,  2,  9,  2,  4,  4, 10,  8, 11,  3,  9,  2,  3,\n",
       "       12,  5, 11, 10, 12,  2,  9,  1,  9, 12,  5,  4, 12,  7,  9, 12,  9,\n",
       "        0,  9, 12,  9,  5, 13, 11,  6, 11, 12,  8, 11,  1, 11,  9,  9, 11,\n",
       "       10,  5, 13,  5,  1,  9,  9,  7, 10, 11,  0,  4,  6,  5, 12,  4,  5,\n",
       "        5,  5,  4,  4,  2, 12,  5,  9,  0,  1,  2,  9, 12, 12, 12,  0, 12,\n",
       "        9,  1, 12,  3, 10, 10, 12, 10,  5,  6,  9,  6, 10,  5,  2, 13, 13,\n",
       "       12, 10,  0, 10,  6,  1, 11,  6, 12,  8, 12, 12,  9,  4,  0, 10, 12,\n",
       "        5, 10, 12, 10,  6, 12,  5,  5, 10,  3,  6, 13,  1,  9, 11,  8,  5,\n",
       "        1,  6,  2, 11,  6,  1, 11,  9, 10,  7,  5,  7, 12,  5,  0,  3, 12,\n",
       "        4, 11, 11,  5,  9,  6, 13,  9,  8,  4,  9,  5,  3,  6, 10,  5, 12,\n",
       "        6,  5,  6, 10, 13,  1,  6,  9,  6, 10, 10,  9,  4,  3,  7,  3,  5,\n",
       "        2,  2, 10, 12,  7,  3,  5,  9,  9,  2,  5,  4,  5,  5, 10, 12, 11,\n",
       "        4,  0, 13,  9,  2])"
      ]
     },
     "execution_count": 28,
     "metadata": {},
     "output_type": "execute_result"
    }
   ],
   "source": []
  },
  {
   "cell_type": "code",
   "execution_count": null,
   "id": "8d300cc8",
   "metadata": {},
   "outputs": [],
   "source": []
  },
  {
   "cell_type": "code",
   "execution_count": null,
   "id": "e5016bcb",
   "metadata": {},
   "outputs": [],
   "source": []
  },
  {
   "cell_type": "code",
   "execution_count": null,
   "id": "b133a824",
   "metadata": {},
   "outputs": [],
   "source": []
  }
 ],
 "metadata": {
  "kernelspec": {
   "display_name": "PyCharm (4th)",
   "language": "python",
   "name": "pycharm-7325307b"
  },
  "language_info": {
   "codemirror_mode": {
    "name": "ipython",
    "version": 3
   },
   "file_extension": ".py",
   "mimetype": "text/x-python",
   "name": "python",
   "nbconvert_exporter": "python",
   "pygments_lexer": "ipython3",
   "version": "3.8.12"
  }
 },
 "nbformat": 4,
 "nbformat_minor": 5
}
